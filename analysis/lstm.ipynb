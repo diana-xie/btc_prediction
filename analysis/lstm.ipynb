{
 "cells": [
  {
   "cell_type": "markdown",
   "metadata": {},
   "source": [
    "# LSTM for forecasting Bitcoin price\n",
    "\n",
    "This is the baseline model for comparison, which lacks ability to handle sequential nature of data. This will allow us to compare whether using a sequential model (i.e. LSTM) improves Bitcoin predictions."
   ]
  },
  {
   "cell_type": "code",
   "execution_count": 1,
   "metadata": {},
   "outputs": [
    {
     "name": "stderr",
     "output_type": "stream",
     "text": [
      "/Users/diana.xie/.pyenv/versions/3.6.8/envs/penn_challenge/lib/python3.6/site-packages/pandas/compat/__init__.py:117: UserWarning: Could not import the lzma module. Your installed Python is incomplete. Attempting to use lzma compression will result in a RuntimeError.\n",
      "  warnings.warn(msg)\n"
     ]
    }
   ],
   "source": [
    "import pandas as pd\n",
    "import numpy as np\n",
    "import datetime\n",
    "from copy import deepcopy\n",
    "import tqdm\n",
    "\n",
    "from sklearn.model_selection import GridSearchCV\n",
    "from sklearn.model_selection import KFold\n",
    "from sklearn.preprocessing import MinMaxScaler, StandardScaler\n",
    "from sklearn.metrics import mean_absolute_error\n",
    "from sklearn.ensemble import RandomForestRegressor, RandomForestClassifier\n",
    "from sklearn.model_selection import train_test_split\n",
    "\n",
    "import tensorflow as tf\n",
    "from keras.models import Sequential\n",
    "from keras.layers import Dense, Flatten, Dropout, LSTM, Input, Masking, LeakyReLU\n",
    "from keras.preprocessing.sequence import pad_sequences\n",
    "\n",
    "import matplotlib.pyplot as plt\n",
    "import matplotlib\n",
    "matplotlib.rcParams['font.family'] = 'DejaVu Sans'\n",
    "matplotlib.style.use('ggplot')\n",
    "import seaborn as sns\n",
    "\n",
    "import warnings\n",
    "warnings.filterwarnings('ignore')"
   ]
  },
  {
   "cell_type": "markdown",
   "metadata": {},
   "source": [
    "# 1. Preprocessing for LSTM"
   ]
  },
  {
   "cell_type": "code",
   "execution_count": 2,
   "metadata": {
    "scrolled": true
   },
   "outputs": [
    {
     "data": {
      "text/html": [
       "<div>\n",
       "<style scoped>\n",
       "    .dataframe tbody tr th:only-of-type {\n",
       "        vertical-align: middle;\n",
       "    }\n",
       "\n",
       "    .dataframe tbody tr th {\n",
       "        vertical-align: top;\n",
       "    }\n",
       "\n",
       "    .dataframe thead th {\n",
       "        text-align: right;\n",
       "    }\n",
       "</style>\n",
       "<table border=\"1\" class=\"dataframe\">\n",
       "  <thead>\n",
       "    <tr style=\"text-align: right;\">\n",
       "      <th></th>\n",
       "      <th>price_open</th>\n",
       "      <th>price_high</th>\n",
       "      <th>price_low</th>\n",
       "      <th>price_close</th>\n",
       "      <th>volume_traded</th>\n",
       "      <th>trades_count</th>\n",
       "    </tr>\n",
       "  </thead>\n",
       "  <tbody>\n",
       "    <tr>\n",
       "      <th>0</th>\n",
       "      <td>7165.72</td>\n",
       "      <td>7165.72</td>\n",
       "      <td>7165.71</td>\n",
       "      <td>7165.71</td>\n",
       "      <td>0.021841</td>\n",
       "      <td>2</td>\n",
       "    </tr>\n",
       "    <tr>\n",
       "      <th>1</th>\n",
       "      <td>7168.30</td>\n",
       "      <td>7168.30</td>\n",
       "      <td>7168.30</td>\n",
       "      <td>7168.30</td>\n",
       "      <td>1.000000</td>\n",
       "      <td>2</td>\n",
       "    </tr>\n",
       "    <tr>\n",
       "      <th>2</th>\n",
       "      <td>7170.50</td>\n",
       "      <td>7170.50</td>\n",
       "      <td>7170.50</td>\n",
       "      <td>7170.50</td>\n",
       "      <td>0.002000</td>\n",
       "      <td>1</td>\n",
       "    </tr>\n",
       "    <tr>\n",
       "      <th>3</th>\n",
       "      <td>7169.20</td>\n",
       "      <td>7169.20</td>\n",
       "      <td>7169.20</td>\n",
       "      <td>7169.20</td>\n",
       "      <td>0.004000</td>\n",
       "      <td>2</td>\n",
       "    </tr>\n",
       "    <tr>\n",
       "      <th>4</th>\n",
       "      <td>7169.20</td>\n",
       "      <td>7169.20</td>\n",
       "      <td>7169.20</td>\n",
       "      <td>7169.20</td>\n",
       "      <td>0.002000</td>\n",
       "      <td>1</td>\n",
       "    </tr>\n",
       "  </tbody>\n",
       "</table>\n",
       "</div>"
      ],
      "text/plain": [
       "   price_open  price_high  price_low  price_close  volume_traded  trades_count\n",
       "0     7165.72     7165.72    7165.71      7165.71       0.021841             2\n",
       "1     7168.30     7168.30    7168.30      7168.30       1.000000             2\n",
       "2     7170.50     7170.50    7170.50      7170.50       0.002000             1\n",
       "3     7169.20     7169.20    7169.20      7169.20       0.004000             2\n",
       "4     7169.20     7169.20    7169.20      7169.20       0.002000             1"
      ]
     },
     "execution_count": 2,
     "metadata": {},
     "output_type": "execute_result"
    }
   ],
   "source": [
    "data = pd.read_csv(\n",
    "    'bitcoin.csv', \n",
    "    index_col=0\n",
    ")\n",
    "data = data.sort_values('time_period_end')\n",
    "data.drop(['time_period_start', 'time_period_end', 'time_open', 'time_close'], axis=1, inplace=True)\n",
    "\n",
    "data.head()"
   ]
  },
  {
   "cell_type": "code",
   "execution_count": 3,
   "metadata": {},
   "outputs": [],
   "source": [
    "for feat in data.columns:\n",
    "    scaler = MinMaxScaler()\n",
    "    data[feat] = scaler.fit_transform(np.array(data[feat]).reshape(-1,1))\n",
    "    if feat == 'price_open':\n",
    "        target_scaler = deepcopy(scaler)  # save scaler for target, to transform back to original later"
   ]
  },
  {
   "cell_type": "code",
   "execution_count": 8,
   "metadata": {
    "scrolled": true
   },
   "outputs": [],
   "source": [
    "def window_stack(a: pd.DataFrame, width: int = 60):\n",
    "    stack = [a.iloc[i:width+i] for i in range(0, len(a)-width+1)]\n",
    "    return stack\n",
    "\n",
    "# can turn back on for experimenting later, but right now for simplicity just scale entire col, not within time window \n",
    "# def window_scale(window_df: pd.DataFrame, scaler_to_use):\n",
    "#     for feat in window_df.columns:\n",
    "#         feat_scaler = deepcopy(scaler)\n",
    "#         window_df[feat] = feat_scaler.fit_transform(np.array(window_df[feat]).reshape(-1, 1))\n",
    "#     return window_df\n",
    "\n",
    "def window_target(a: pd.DataFrame, width: int = 60):\n",
    "    targets = np.array([a.iloc[width+i]['price_open']  for i in range(0, len(a)-width)])\n",
    "#     targets = scaler.fit_transform(targets.reshape(-1,1))\n",
    "    return targets"
   ]
  },
  {
   "cell_type": "code",
   "execution_count": 9,
   "metadata": {},
   "outputs": [
    {
     "name": "stdout",
     "output_type": "stream",
     "text": [
      "CPU times: user 5.98 s, sys: 108 ms, total: 6.09 s\n",
      "Wall time: 6.13 s\n"
     ]
    }
   ],
   "source": [
    "%%time\n",
    "\n",
    "# get 60-sec time windows\n",
    "width = 60\n",
    "stacks = window_stack(data, width)[:-1]  # since last window's 9999 idx doesn't have a following 10000 idx target\n",
    "targets = window_target(data, width)  # save scaler\n",
    "\n",
    "# test\n",
    "assert len(stacks)==len(targets), \"The stacks and targets aren't of equal length.\".format(x)"
   ]
  },
  {
   "cell_type": "code",
   "execution_count": 7,
   "metadata": {
    "scrolled": true
   },
   "outputs": [],
   "source": [
    "# # scale within each 60-sec time window\n",
    "# pbar = tqdm.tqdm(total=len(stacks))\n",
    "# stack_scaled = []\n",
    "# for window_df in stacks:\n",
    "#     pbar.update(1)\n",
    "#     stack_scaled.append(window_scale(window_df, MinMaxScaler()))  # if have time, test different scalers\n",
    "# pbar.close()\n",
    "\n",
    "# # test\n",
    "# assert len(stack_scaled)==len(stacks), \"The scaled stacks aren't of same length as unscaled.\".format(x)"
   ]
  },
  {
   "cell_type": "code",
   "execution_count": 13,
   "metadata": {},
   "outputs": [
    {
     "name": "stdout",
     "output_type": "stream",
     "text": [
      "data shape:  (9940, 60, 6)\n",
      "features:  ['price_open' 'price_high' 'price_low' 'price_close' 'volume_traded'\n",
      " 'trades_count']\n"
     ]
    }
   ],
   "source": [
    "# convert to 3D array\n",
    "# stack_arr = [np.array(x) for x in stack_scaled]\n",
    "stack_arr = [np.array(x) for x in stacks]\n",
    "stack_arr = np.array(stack_arr)\n",
    "# features = stack_scaled[-1].columns\n",
    "features = stacks[-1].columns\n",
    "\n",
    "print('data shape: ', stack_arr.shape)\n",
    "print('features: ', features.values)"
   ]
  },
  {
   "cell_type": "code",
   "execution_count": 14,
   "metadata": {},
   "outputs": [],
   "source": [
    "# test\n",
    "n_data, window_width, n_features = stack_arr.shape\n",
    "assert n_data==len(stacks), \"The n_data stack_arr[0] is incorrect shape.\".format(x)\n",
    "assert window_width==width, \"The window_width stack_arr[1] is incorrect shape.\".format(x)\n",
    "assert n_features==len(features), \"The n_features stack_arr[2] is incorrect shape.\".format(x)"
   ]
  },
  {
   "cell_type": "markdown",
   "metadata": {},
   "source": [
    "Treat each row as a \"sequence\"."
   ]
  },
  {
   "cell_type": "code",
   "execution_count": 15,
   "metadata": {},
   "outputs": [],
   "source": [
    "train_idx, test_idx = train_test_split(range(0, len(stack_arr)), test_size=1 / 3, random_state=99)\n",
    "\n",
    "X_train = stack_arr[train_idx]\n",
    "y_train = np.array([targets[i] for i in train_idx])\n",
    "assert len(X_train)==len(y_train), \"X_train and y_train aren't of same len.\".format(x)\n",
    "\n",
    "X_test = stack_arr[test_idx]\n",
    "y_test= np.array([targets[i] for i in test_idx])\n",
    "assert len(X_test)==len(y_test), \"X_train and y_train aren't of same len.\".format(x)\n",
    "\n",
    "assert len(X_train)+len(X_test)==len(stack_arr), \"Total length of train & test don't add up to original.\".format(x)"
   ]
  },
  {
   "cell_type": "markdown",
   "metadata": {},
   "source": [
    "# 2. Evaluate LSTM"
   ]
  },
  {
   "cell_type": "code",
   "execution_count": 16,
   "metadata": {
    "scrolled": false
   },
   "outputs": [
    {
     "name": "stdout",
     "output_type": "stream",
     "text": [
      "52/52 [==============================] - 2s 30ms/step - loss: 0.0485 - mean_absolute_error: 0.0485\n",
      "CPU times: user 4min 11s, sys: 1min 45s, total: 5min 57s\n",
      "Wall time: 1min 34s\n"
     ]
    },
    {
     "data": {
      "text/plain": [
       "[0.048547688871622086, 0.048547688871622086]"
      ]
     },
     "execution_count": 16,
     "metadata": {},
     "output_type": "execute_result"
    }
   ],
   "source": [
    "%%time\n",
    "\n",
    "verbose, epochs, batch_size = 0, 15, 64\n",
    "n_timesteps, n_features, n_outputs = X_train.shape[1], X_train.shape[2], 1\n",
    "\n",
    "model = Sequential()\n",
    "model.add(LSTM(100, input_shape=(n_timesteps,n_features)))\n",
    "model.add(tf.keras.layers.Dropout(0.1))\n",
    "model.add(Dense(100 , kernel_initializer='he_uniform', activation='relu'))\n",
    "# model.add(Dense(1, activation='relu'))\n",
    "# model.add(Dense(units=1, activation='softmax'))\n",
    "model.add(Dense(1))\n",
    "model.add(LeakyReLU(alpha=0.1))\n",
    "\n",
    "model.compile(loss='mean_absolute_error', optimizer='adam', metrics='mean_absolute_error')\n",
    "\n",
    "# fit network\n",
    "model.fit(X_train, y_train, epochs=epochs, batch_size=batch_size, verbose=verbose)\n",
    "\n",
    "# evaluate\n",
    "model.evaluate(X_test, y_test, batch_size=batch_size, verbose=1)"
   ]
  },
  {
   "cell_type": "markdown",
   "metadata": {},
   "source": [
    "## 2A. Inspect results"
   ]
  },
  {
   "cell_type": "code",
   "execution_count": 17,
   "metadata": {},
   "outputs": [
    {
     "name": "stdout",
     "output_type": "stream",
     "text": [
      "MAE, original scale:  2.7371207259920043\n"
     ]
    }
   ],
   "source": [
    "predictions = model.predict(X_test) \n",
    "predictions_unscaled = target_scaler.inverse_transform(np.array(predictions))\n",
    "actuals = target_scaler.inverse_transform(np.array(y_test).reshape(-1, 1))\n",
    "\n",
    "mae = mean_absolute_error(predictions_unscaled, actuals)\n",
    "print('MAE, original scale: ', mae)"
   ]
  },
  {
   "cell_type": "markdown",
   "metadata": {},
   "source": [
    "The error is not as low (i.e. not as good) as RFregressor. Let's see the distribution of predictions vs. actuals to see why:"
   ]
  },
  {
   "cell_type": "code",
   "execution_count": 18,
   "metadata": {},
   "outputs": [
    {
     "data": {
      "image/png": "[encoded data removed]",
      "text/plain": [
       "<Figure size 432x288 with 1 Axes>"
      ]
     },
     "metadata": {},
     "output_type": "display_data"
    }
   ],
   "source": [
    "plt.hist(predictions_unscaled);\n",
    "plt.title(\"Predictions - Value Distribution\");\n",
    "plt.xlabel(\"Predicted BTC Value\");\n",
    "plt.ylabel(\"Num Predictions\");"
   ]
  },
  {
   "cell_type": "code",
   "execution_count": 19,
   "metadata": {},
   "outputs": [
    {
     "data": {
      "image/png": "[encoded data removed]",
      "text/plain": [
       "<Figure size 432x288 with 1 Axes>"
      ]
     },
     "metadata": {},
     "output_type": "display_data"
    }
   ],
   "source": [
    "plt.hist(actuals, color='purple');\n",
    "plt.title(\"Actual Data - Value Distribution\");\n",
    "plt.xlabel(\"Actual BTC Value\");\n",
    "plt.ylabel(\"Num Actuals\");"
   ]
  },
  {
   "cell_type": "markdown",
   "metadata": {},
   "source": [
    "It looks like the performance is lowered by LSTM inaccuracy in some parts of the bimodel distribution, such as the middle range (i.e. 7170-7200). "
   ]
  },
  {
   "cell_type": "markdown",
   "metadata": {},
   "source": [
    "# 3. Conclusion\n",
    "The current LSTM (~ 2.73 MAE) performs better than the neural net example (~ 5.7 MAE), but not as well as RFregressor (~ 0.82 MAE), because it is unable to account for the bimodal nature of BTC value distribution. This is at least the case for a 60-sec window.\n",
    "\n",
    "Therefore RFregressor performs the best out of the 3 tetsted models, with just a MAE of ~0.82 BTC error (average BTC value is ~7188)\n",
    "\n",
    "# Future directions\n",
    "- Further refinement of LSTM. Also explore other sequential learning architectures.\n",
    "- Feature engineering, such as looking at correlation between BTC features\n",
    "- Testing multiple time windows"
   ]
  },
  {
   "cell_type": "code",
   "execution_count": null,
   "metadata": {},
   "outputs": [],
   "source": []
  }
 ],
 "metadata": {
  "kernelspec": {
   "display_name": "penn_challenge",
   "language": "python",
   "name": "penn_challenge"
  },
  "language_info": {
   "codemirror_mode": {
    "name": "ipython",
    "version": 3
   },
   "file_extension": ".py",
   "mimetype": "text/x-python",
   "name": "python",
   "nbconvert_exporter": "python",
   "pygments_lexer": "ipython3",
   "version": "3.6.8"
  }
 },
 "nbformat": 4,
 "nbformat_minor": 4
}
