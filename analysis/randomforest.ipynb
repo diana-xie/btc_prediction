{
 "cells": [
  {
   "cell_type": "markdown",
   "metadata": {},
   "source": [
    "# RF for forecasting Bitcoin price\n",
    "\n",
    "RF lacks ability to handle sequential nature of data, but may be better at splitting meaningful features. This will allow us to compare whether using a sequential model (i.e. LSTM) improves Bitcoin predictions."
   ]
  },
  {
   "cell_type": "code",
   "execution_count": 3,
   "metadata": {},
   "outputs": [],
   "source": [
    "import pandas as pd\n",
    "import numpy as np\n",
    "import datetime\n",
    "from copy import deepcopy\n",
    "\n",
    "from sklearn.preprocessing import MinMaxScaler\n",
    "from sklearn.model_selection import GridSearchCV\n",
    "from sklearn.ensemble import RandomForestRegressor\n",
    "from sklearn.model_selection import train_test_split\n",
    "from sklearn.metrics import mean_absolute_error\n",
    "\n",
    "import matplotlib.pyplot as plt\n",
    "import matplotlib\n",
    "matplotlib.rcParams['font.family'] = 'DejaVu Sans'\n",
    "matplotlib.style.use('ggplot')\n",
    "import seaborn as sns\n",
    "\n",
    "import warnings\n",
    "warnings.filterwarnings('ignore')"
   ]
  },
  {
   "cell_type": "code",
   "execution_count": 4,
   "metadata": {},
   "outputs": [
    {
     "data": {
      "text/html": [
       "<div>\n",
       "<style scoped>\n",
       "    .dataframe tbody tr th:only-of-type {\n",
       "        vertical-align: middle;\n",
       "    }\n",
       "\n",
       "    .dataframe tbody tr th {\n",
       "        vertical-align: top;\n",
       "    }\n",
       "\n",
       "    .dataframe thead th {\n",
       "        text-align: right;\n",
       "    }\n",
       "</style>\n",
       "<table border=\"1\" class=\"dataframe\">\n",
       "  <thead>\n",
       "    <tr style=\"text-align: right;\">\n",
       "      <th></th>\n",
       "      <th>price_open</th>\n",
       "      <th>price_high</th>\n",
       "      <th>price_low</th>\n",
       "      <th>price_close</th>\n",
       "      <th>volume_traded</th>\n",
       "      <th>trades_count</th>\n",
       "      <th>hour</th>\n",
       "      <th>price_open_-1</th>\n",
       "      <th>price_high_-1</th>\n",
       "      <th>price_low_-1</th>\n",
       "      <th>...</th>\n",
       "      <th>price_low_-58</th>\n",
       "      <th>price_close_-58</th>\n",
       "      <th>volume_traded_-58</th>\n",
       "      <th>trades_count_-58</th>\n",
       "      <th>price_open_-59</th>\n",
       "      <th>price_high_-59</th>\n",
       "      <th>price_low_-59</th>\n",
       "      <th>price_close_-59</th>\n",
       "      <th>volume_traded_-59</th>\n",
       "      <th>trades_count_-59</th>\n",
       "    </tr>\n",
       "  </thead>\n",
       "  <tbody>\n",
       "    <tr>\n",
       "      <th>59</th>\n",
       "      <td>7154.97</td>\n",
       "      <td>7154.97</td>\n",
       "      <td>7154.97</td>\n",
       "      <td>7154.97</td>\n",
       "      <td>2.000000</td>\n",
       "      <td>2</td>\n",
       "      <td>0</td>\n",
       "      <td>7163.30</td>\n",
       "      <td>7163.30</td>\n",
       "      <td>7163.30</td>\n",
       "      <td>...</td>\n",
       "      <td>7168.30</td>\n",
       "      <td>7168.3</td>\n",
       "      <td>1.000000</td>\n",
       "      <td>2.0</td>\n",
       "      <td>7165.72</td>\n",
       "      <td>7165.72</td>\n",
       "      <td>7165.71</td>\n",
       "      <td>7165.71</td>\n",
       "      <td>0.021841</td>\n",
       "      <td>2.0</td>\n",
       "    </tr>\n",
       "    <tr>\n",
       "      <th>60</th>\n",
       "      <td>7161.20</td>\n",
       "      <td>7163.40</td>\n",
       "      <td>7161.20</td>\n",
       "      <td>7163.40</td>\n",
       "      <td>0.015800</td>\n",
       "      <td>2</td>\n",
       "      <td>0</td>\n",
       "      <td>7154.97</td>\n",
       "      <td>7154.97</td>\n",
       "      <td>7154.97</td>\n",
       "      <td>...</td>\n",
       "      <td>7170.50</td>\n",
       "      <td>7170.5</td>\n",
       "      <td>0.002000</td>\n",
       "      <td>1.0</td>\n",
       "      <td>7168.30</td>\n",
       "      <td>7168.30</td>\n",
       "      <td>7168.30</td>\n",
       "      <td>7168.30</td>\n",
       "      <td>1.000000</td>\n",
       "      <td>2.0</td>\n",
       "    </tr>\n",
       "    <tr>\n",
       "      <th>61</th>\n",
       "      <td>7154.98</td>\n",
       "      <td>7154.98</td>\n",
       "      <td>7154.97</td>\n",
       "      <td>7154.98</td>\n",
       "      <td>0.038357</td>\n",
       "      <td>3</td>\n",
       "      <td>0</td>\n",
       "      <td>7161.20</td>\n",
       "      <td>7163.40</td>\n",
       "      <td>7161.20</td>\n",
       "      <td>...</td>\n",
       "      <td>7169.20</td>\n",
       "      <td>7169.2</td>\n",
       "      <td>0.004000</td>\n",
       "      <td>2.0</td>\n",
       "      <td>7170.50</td>\n",
       "      <td>7170.50</td>\n",
       "      <td>7170.50</td>\n",
       "      <td>7170.50</td>\n",
       "      <td>0.002000</td>\n",
       "      <td>1.0</td>\n",
       "    </tr>\n",
       "    <tr>\n",
       "      <th>62</th>\n",
       "      <td>7154.98</td>\n",
       "      <td>7154.98</td>\n",
       "      <td>7154.98</td>\n",
       "      <td>7154.98</td>\n",
       "      <td>0.032201</td>\n",
       "      <td>1</td>\n",
       "      <td>0</td>\n",
       "      <td>7154.98</td>\n",
       "      <td>7154.98</td>\n",
       "      <td>7154.97</td>\n",
       "      <td>...</td>\n",
       "      <td>7169.20</td>\n",
       "      <td>7169.2</td>\n",
       "      <td>0.002000</td>\n",
       "      <td>1.0</td>\n",
       "      <td>7169.20</td>\n",
       "      <td>7169.20</td>\n",
       "      <td>7169.20</td>\n",
       "      <td>7169.20</td>\n",
       "      <td>0.004000</td>\n",
       "      <td>2.0</td>\n",
       "    </tr>\n",
       "    <tr>\n",
       "      <th>63</th>\n",
       "      <td>7154.97</td>\n",
       "      <td>7154.97</td>\n",
       "      <td>7154.97</td>\n",
       "      <td>7154.97</td>\n",
       "      <td>2.000000</td>\n",
       "      <td>1</td>\n",
       "      <td>0</td>\n",
       "      <td>7154.98</td>\n",
       "      <td>7154.98</td>\n",
       "      <td>7154.98</td>\n",
       "      <td>...</td>\n",
       "      <td>7165.72</td>\n",
       "      <td>7169.2</td>\n",
       "      <td>0.075433</td>\n",
       "      <td>3.0</td>\n",
       "      <td>7169.20</td>\n",
       "      <td>7169.20</td>\n",
       "      <td>7169.20</td>\n",
       "      <td>7169.20</td>\n",
       "      <td>0.002000</td>\n",
       "      <td>1.0</td>\n",
       "    </tr>\n",
       "  </tbody>\n",
       "</table>\n",
       "<p>5 rows × 361 columns</p>\n",
       "</div>"
      ],
      "text/plain": [
       "    price_open  price_high  price_low  price_close  volume_traded  \\\n",
       "59     7154.97     7154.97    7154.97      7154.97       2.000000   \n",
       "60     7161.20     7163.40    7161.20      7163.40       0.015800   \n",
       "61     7154.98     7154.98    7154.97      7154.98       0.038357   \n",
       "62     7154.98     7154.98    7154.98      7154.98       0.032201   \n",
       "63     7154.97     7154.97    7154.97      7154.97       2.000000   \n",
       "\n",
       "    trades_count  hour  price_open_-1  price_high_-1  price_low_-1  ...  \\\n",
       "59             2     0        7163.30        7163.30       7163.30  ...   \n",
       "60             2     0        7154.97        7154.97       7154.97  ...   \n",
       "61             3     0        7161.20        7163.40       7161.20  ...   \n",
       "62             1     0        7154.98        7154.98       7154.97  ...   \n",
       "63             1     0        7154.98        7154.98       7154.98  ...   \n",
       "\n",
       "    price_low_-58  price_close_-58  volume_traded_-58  trades_count_-58  \\\n",
       "59        7168.30           7168.3           1.000000               2.0   \n",
       "60        7170.50           7170.5           0.002000               1.0   \n",
       "61        7169.20           7169.2           0.004000               2.0   \n",
       "62        7169.20           7169.2           0.002000               1.0   \n",
       "63        7165.72           7169.2           0.075433               3.0   \n",
       "\n",
       "    price_open_-59  price_high_-59  price_low_-59  price_close_-59  \\\n",
       "59         7165.72         7165.72        7165.71          7165.71   \n",
       "60         7168.30         7168.30        7168.30          7168.30   \n",
       "61         7170.50         7170.50        7170.50          7170.50   \n",
       "62         7169.20         7169.20        7169.20          7169.20   \n",
       "63         7169.20         7169.20        7169.20          7169.20   \n",
       "\n",
       "    volume_traded_-59  trades_count_-59  \n",
       "59           0.021841               2.0  \n",
       "60           1.000000               2.0  \n",
       "61           0.002000               1.0  \n",
       "62           0.004000               2.0  \n",
       "63           0.002000               1.0  \n",
       "\n",
       "[5 rows x 361 columns]"
      ]
     },
     "execution_count": 4,
     "metadata": {},
     "output_type": "execute_result"
    }
   ],
   "source": [
    "data = pd.read_pickle('features.pkl')\n",
    "data.head()"
   ]
  },
  {
   "cell_type": "code",
   "execution_count": 5,
   "metadata": {},
   "outputs": [
    {
     "data": {
      "text/html": [
       "<div>\n",
       "<style scoped>\n",
       "    .dataframe tbody tr th:only-of-type {\n",
       "        vertical-align: middle;\n",
       "    }\n",
       "\n",
       "    .dataframe tbody tr th {\n",
       "        vertical-align: top;\n",
       "    }\n",
       "\n",
       "    .dataframe thead th {\n",
       "        text-align: right;\n",
       "    }\n",
       "</style>\n",
       "<table border=\"1\" class=\"dataframe\">\n",
       "  <thead>\n",
       "    <tr style=\"text-align: right;\">\n",
       "      <th></th>\n",
       "      <th>price_open</th>\n",
       "      <th>price_high</th>\n",
       "      <th>price_low</th>\n",
       "      <th>price_close</th>\n",
       "      <th>volume_traded</th>\n",
       "      <th>trades_count</th>\n",
       "      <th>hour</th>\n",
       "      <th>price_open_-1</th>\n",
       "      <th>price_high_-1</th>\n",
       "      <th>price_low_-1</th>\n",
       "      <th>...</th>\n",
       "      <th>price_low_-58</th>\n",
       "      <th>price_close_-58</th>\n",
       "      <th>volume_traded_-58</th>\n",
       "      <th>trades_count_-58</th>\n",
       "      <th>price_open_-59</th>\n",
       "      <th>price_high_-59</th>\n",
       "      <th>price_low_-59</th>\n",
       "      <th>price_close_-59</th>\n",
       "      <th>volume_traded_-59</th>\n",
       "      <th>trades_count_-59</th>\n",
       "    </tr>\n",
       "  </thead>\n",
       "  <tbody>\n",
       "    <tr>\n",
       "      <th>59</th>\n",
       "      <td>0.183576</td>\n",
       "      <td>0.183576</td>\n",
       "      <td>0.291301</td>\n",
       "      <td>0.131212</td>\n",
       "      <td>0.030762</td>\n",
       "      <td>0.011494</td>\n",
       "      <td>0.0</td>\n",
       "      <td>0.331323</td>\n",
       "      <td>0.331323</td>\n",
       "      <td>0.419554</td>\n",
       "      <td>...</td>\n",
       "      <td>0.496536</td>\n",
       "      <td>0.300203</td>\n",
       "      <td>0.015381</td>\n",
       "      <td>0.011494</td>\n",
       "      <td>0.374246</td>\n",
       "      <td>0.374246</td>\n",
       "      <td>0.456659</td>\n",
       "      <td>0.267368</td>\n",
       "      <td>0.000336</td>\n",
       "      <td>0.011494</td>\n",
       "    </tr>\n",
       "    <tr>\n",
       "      <th>60</th>\n",
       "      <td>0.294076</td>\n",
       "      <td>0.333097</td>\n",
       "      <td>0.387221</td>\n",
       "      <td>0.238083</td>\n",
       "      <td>0.000243</td>\n",
       "      <td>0.011494</td>\n",
       "      <td>0.0</td>\n",
       "      <td>0.183576</td>\n",
       "      <td>0.183576</td>\n",
       "      <td>0.291301</td>\n",
       "      <td>...</td>\n",
       "      <td>0.530408</td>\n",
       "      <td>0.328093</td>\n",
       "      <td>0.000031</td>\n",
       "      <td>0.000000</td>\n",
       "      <td>0.420007</td>\n",
       "      <td>0.420007</td>\n",
       "      <td>0.496536</td>\n",
       "      <td>0.300203</td>\n",
       "      <td>0.015381</td>\n",
       "      <td>0.011494</td>\n",
       "    </tr>\n",
       "    <tr>\n",
       "      <th>61</th>\n",
       "      <td>0.183753</td>\n",
       "      <td>0.183753</td>\n",
       "      <td>0.291301</td>\n",
       "      <td>0.131339</td>\n",
       "      <td>0.000590</td>\n",
       "      <td>0.022989</td>\n",
       "      <td>0.0</td>\n",
       "      <td>0.294076</td>\n",
       "      <td>0.333097</td>\n",
       "      <td>0.387221</td>\n",
       "      <td>...</td>\n",
       "      <td>0.510393</td>\n",
       "      <td>0.311613</td>\n",
       "      <td>0.000061</td>\n",
       "      <td>0.011494</td>\n",
       "      <td>0.459028</td>\n",
       "      <td>0.459028</td>\n",
       "      <td>0.530408</td>\n",
       "      <td>0.328093</td>\n",
       "      <td>0.000031</td>\n",
       "      <td>0.000000</td>\n",
       "    </tr>\n",
       "    <tr>\n",
       "      <th>62</th>\n",
       "      <td>0.183753</td>\n",
       "      <td>0.183753</td>\n",
       "      <td>0.291455</td>\n",
       "      <td>0.131339</td>\n",
       "      <td>0.000495</td>\n",
       "      <td>0.000000</td>\n",
       "      <td>0.0</td>\n",
       "      <td>0.183753</td>\n",
       "      <td>0.183753</td>\n",
       "      <td>0.291301</td>\n",
       "      <td>...</td>\n",
       "      <td>0.510393</td>\n",
       "      <td>0.311613</td>\n",
       "      <td>0.000031</td>\n",
       "      <td>0.000000</td>\n",
       "      <td>0.435970</td>\n",
       "      <td>0.435970</td>\n",
       "      <td>0.510393</td>\n",
       "      <td>0.311613</td>\n",
       "      <td>0.000061</td>\n",
       "      <td>0.011494</td>\n",
       "    </tr>\n",
       "    <tr>\n",
       "      <th>63</th>\n",
       "      <td>0.183576</td>\n",
       "      <td>0.183576</td>\n",
       "      <td>0.291301</td>\n",
       "      <td>0.131212</td>\n",
       "      <td>0.030762</td>\n",
       "      <td>0.000000</td>\n",
       "      <td>0.0</td>\n",
       "      <td>0.183753</td>\n",
       "      <td>0.183753</td>\n",
       "      <td>0.291455</td>\n",
       "      <td>...</td>\n",
       "      <td>0.456813</td>\n",
       "      <td>0.311613</td>\n",
       "      <td>0.001160</td>\n",
       "      <td>0.022989</td>\n",
       "      <td>0.435970</td>\n",
       "      <td>0.435970</td>\n",
       "      <td>0.510393</td>\n",
       "      <td>0.311613</td>\n",
       "      <td>0.000031</td>\n",
       "      <td>0.000000</td>\n",
       "    </tr>\n",
       "  </tbody>\n",
       "</table>\n",
       "<p>5 rows × 361 columns</p>\n",
       "</div>"
      ],
      "text/plain": [
       "    price_open  price_high  price_low  price_close  volume_traded  \\\n",
       "59    0.183576    0.183576   0.291301     0.131212       0.030762   \n",
       "60    0.294076    0.333097   0.387221     0.238083       0.000243   \n",
       "61    0.183753    0.183753   0.291301     0.131339       0.000590   \n",
       "62    0.183753    0.183753   0.291455     0.131339       0.000495   \n",
       "63    0.183576    0.183576   0.291301     0.131212       0.030762   \n",
       "\n",
       "    trades_count  hour  price_open_-1  price_high_-1  price_low_-1  ...  \\\n",
       "59      0.011494   0.0       0.331323       0.331323      0.419554  ...   \n",
       "60      0.011494   0.0       0.183576       0.183576      0.291301  ...   \n",
       "61      0.022989   0.0       0.294076       0.333097      0.387221  ...   \n",
       "62      0.000000   0.0       0.183753       0.183753      0.291301  ...   \n",
       "63      0.000000   0.0       0.183753       0.183753      0.291455  ...   \n",
       "\n",
       "    price_low_-58  price_close_-58  volume_traded_-58  trades_count_-58  \\\n",
       "59       0.496536         0.300203           0.015381          0.011494   \n",
       "60       0.530408         0.328093           0.000031          0.000000   \n",
       "61       0.510393         0.311613           0.000061          0.011494   \n",
       "62       0.510393         0.311613           0.000031          0.000000   \n",
       "63       0.456813         0.311613           0.001160          0.022989   \n",
       "\n",
       "    price_open_-59  price_high_-59  price_low_-59  price_close_-59  \\\n",
       "59        0.374246        0.374246       0.456659         0.267368   \n",
       "60        0.420007        0.420007       0.496536         0.300203   \n",
       "61        0.459028        0.459028       0.530408         0.328093   \n",
       "62        0.435970        0.435970       0.510393         0.311613   \n",
       "63        0.435970        0.435970       0.510393         0.311613   \n",
       "\n",
       "    volume_traded_-59  trades_count_-59  \n",
       "59           0.000336          0.011494  \n",
       "60           0.015381          0.011494  \n",
       "61           0.000031          0.000000  \n",
       "62           0.000061          0.011494  \n",
       "63           0.000031          0.000000  \n",
       "\n",
       "[5 rows x 361 columns]"
      ]
     },
     "execution_count": 5,
     "metadata": {},
     "output_type": "execute_result"
    }
   ],
   "source": [
    "target = 'price_open'\n",
    "features = list(data.columns)\n",
    "\n",
    "for feat in features:\n",
    "    scaler = MinMaxScaler()\n",
    "    data[feat] = scaler.fit_transform(np.array(data[feat]).reshape(-1, 1))\n",
    "    if feat == target:\n",
    "        target_scaler = deepcopy(scaler)\n",
    "\n",
    "features.remove(target)\n",
    "        \n",
    "data.head()"
   ]
  },
  {
   "cell_type": "markdown",
   "metadata": {},
   "source": [
    "# grid search"
   ]
  },
  {
   "cell_type": "code",
   "execution_count": 71,
   "metadata": {},
   "outputs": [],
   "source": [
    "# Create the parameter grid based on the results of random search \n",
    "param_grid = {\n",
    "    'bootstrap': [True],\n",
    "    'max_depth': [10, 50, 80],\n",
    "    'max_features': [2, 3],\n",
    "    'min_samples_leaf': [3, 4, 5],\n",
    "    'min_samples_split': [8, 10, 12],\n",
    "    'n_estimators': [100, 200, 300, 1000]\n",
    "}\n",
    "\n",
    "# Create a based model\n",
    "rf = RandomForestRegressor()\n",
    "\n",
    "# Instantiate the grid search model\n",
    "grid_search = GridSearchCV(estimator = rf, param_grid = param_grid, \n",
    "                          cv = 3, n_jobs = -1, verbose = 2)\n",
    "\n",
    "# train test split\n",
    "train, test = train_test_split(data, test_size=1 / 3, random_state=99)  # test_size=0.2"
   ]
  },
  {
   "cell_type": "code",
   "execution_count": 72,
   "metadata": {
    "scrolled": true
   },
   "outputs": [
    {
     "name": "stdout",
     "output_type": "stream",
     "text": [
      "Fitting 3 folds for each of 216 candidates, totalling 648 fits\n"
     ]
    },
    {
     "name": "stderr",
     "output_type": "stream",
     "text": [
      "[Parallel(n_jobs=-1)]: Using backend LokyBackend with 12 concurrent workers.\n",
      "[Parallel(n_jobs=-1)]: Done  17 tasks      | elapsed:   14.8s\n",
      "[Parallel(n_jobs=-1)]: Done 138 tasks      | elapsed:  2.0min\n",
      "[Parallel(n_jobs=-1)]: Done 341 tasks      | elapsed:  4.8min\n",
      "[Parallel(n_jobs=-1)]: Done 624 tasks      | elapsed:  8.7min\n",
      "[Parallel(n_jobs=-1)]: Done 648 out of 648 | elapsed:  9.1min finished\n"
     ]
    },
    {
     "name": "stdout",
     "output_type": "stream",
     "text": [
      "Best params:  {'bootstrap': True, 'max_depth': 80, 'max_features': 3, 'min_samples_leaf': 3, 'min_samples_split': 8, 'n_estimators': 200}\n",
      "CPU times: user 10.4 s, sys: 807 ms, total: 11.2 s\n",
      "Wall time: 9min 10s\n"
     ]
    }
   ],
   "source": [
    "%%time\n",
    "# Fit the grid search to the data\n",
    "grid_search.fit(train[features], train[target])\n",
    "\n",
    "print('Best params: ', grid_search.best_params_)\n",
    "\n",
    "best_grid = grid_search.best_estimator_"
   ]
  },
  {
   "cell_type": "markdown",
   "metadata": {},
   "source": [
    "# inspect results"
   ]
  },
  {
   "cell_type": "code",
   "execution_count": 73,
   "metadata": {},
   "outputs": [
    {
     "name": "stdout",
     "output_type": "stream",
     "text": [
      "CPU times: user 3.33 s, sys: 201 ms, total: 3.53 s\n",
      "Wall time: 3.72 s\n"
     ]
    },
    {
     "data": {
      "text/plain": [
       "RandomForestRegressor(max_depth=80, max_features=3, min_samples_leaf=3,\n",
       "                      min_samples_split=8, n_estimators=200)"
      ]
     },
     "execution_count": 73,
     "metadata": {},
     "output_type": "execute_result"
    }
   ],
   "source": [
    "%%time\n",
    "\n",
    "# Create a based model\n",
    "# rf = RandomForestRegressor(bootstrap=True, max_depth=50, max_features=3, min_samples_leaf=3, \n",
    "#                            min_samples_split=8, n_estimators=200)\n",
    "rf = best_grid\n",
    "\n",
    "# train test split\n",
    "train, test = train_test_split(data, test_size=1 / 3, random_state=99)  # test_size=0.2\n",
    "\n",
    "rf.fit(train[features], train[target])"
   ]
  },
  {
   "cell_type": "code",
   "execution_count": 74,
   "metadata": {},
   "outputs": [
    {
     "name": "stdout",
     "output_type": "stream",
     "text": [
      "MAE, original scale:  0.82301779744025\n"
     ]
    }
   ],
   "source": [
    "test_features = test[features]\n",
    "test_labels = test[target]\n",
    "\n",
    "# make prediction\n",
    "predictions = rf.predict(test_features)    \n",
    "# rescale back to original\n",
    "predictions_unscaled = target_scaler.inverse_transform(np.array(predictions).reshape(-1, 1))\n",
    "# get actual vals\n",
    "actuals = target_scaler.inverse_transform(np.array(test_labels).reshape(-1, 1))\n",
    "\n",
    "mae = mean_absolute_error(predictions_unscaled, actuals)\n",
    "print(\"MAE, original scale: \", mae)"
   ]
  },
  {
   "cell_type": "markdown",
   "metadata": {},
   "source": [
    "Better than the simple neural net in example (which had MAE of ~2.12). However should see if LSTM sequential modelling improves."
   ]
  },
  {
   "cell_type": "markdown",
   "metadata": {},
   "source": [
    "## Examine feature importances"
   ]
  },
  {
   "cell_type": "code",
   "execution_count": 75,
   "metadata": {
    "scrolled": true
   },
   "outputs": [
    {
     "data": {
      "image/png": "[encoded data removed]",
      "text/plain": [
       "<Figure size 720x1152 with 1 Axes>"
      ]
     },
     "metadata": {},
     "output_type": "display_data"
    }
   ],
   "source": [
    "importances = rf.feature_importances_\n",
    "\n",
    "df = pd.DataFrame(list(zip(importances, train.columns)), \n",
    "                  columns=['importance', 'feature']\n",
    "                 ).sort_values('importance', ascending=False)\n",
    "\n",
    "list1 = [df.iloc[i]['importance'] for i in indices]\n",
    "list1.reverse()\n",
    "list2 = [df.iloc[i]['feature'] for i in indices]\n",
    "list2.reverse()\n",
    "\n",
    "indices = list(range(0, 20))\n",
    "\n",
    "plt.figure(figsize=(10, 16))\n",
    "plt.title('Feature Importances')\n",
    "plt.barh(indices, list1, color='b', align='center')\n",
    "plt.yticks(range(len(indices)), list2)\n",
    "plt.xlabel('Relative Importance')\n",
    "plt.show()"
   ]
  },
  {
   "cell_type": "markdown",
   "metadata": {},
   "source": [
    "## Examine predictions vs. actuals"
   ]
  },
  {
   "cell_type": "code",
   "execution_count": 76,
   "metadata": {},
   "outputs": [
    {
     "data": {
      "image/png": "[encoded data removed]",
      "text/plain": [
       "<Figure size 432x288 with 1 Axes>"
      ]
     },
     "metadata": {},
     "output_type": "display_data"
    }
   ],
   "source": [
    "plt.hist(predictions_unscaled);\n",
    "plt.title(\"Predictions - Value Distribution\");\n",
    "plt.xlabel(\"Predicted BTC Value\");\n",
    "plt.ylabel(\"Num Predictions\");"
   ]
  },
  {
   "cell_type": "code",
   "execution_count": 77,
   "metadata": {},
   "outputs": [
    {
     "data": {
      "image/png": "[encoded data removed]",
      "text/plain": [
       "<Figure size 432x288 with 1 Axes>"
      ]
     },
     "metadata": {},
     "output_type": "display_data"
    }
   ],
   "source": [
    "plt.hist(actuals, color='purple');\n",
    "plt.title(\"Actual Data - Value Distribution\");\n",
    "plt.xlabel(\"Actual BTC Value\");\n",
    "plt.ylabel(\"Num Actuals\");"
   ]
  },
  {
   "cell_type": "markdown",
   "metadata": {},
   "source": [
    "# Conclusion\n",
    "\n",
    "The RFregressor performs quite well, with an error of ~0.82 BTC MAE on a dataset averaging ~7188 BTC."
   ]
  },
  {
   "cell_type": "code",
   "execution_count": null,
   "metadata": {},
   "outputs": [],
   "source": []
  }
 ],
 "metadata": {
  "kernelspec": {
   "display_name": "penn_challenge",
   "language": "python",
   "name": "penn_challenge"
  },
  "language_info": {
   "codemirror_mode": {
    "name": "ipython",
    "version": 3
   },
   "file_extension": ".py",
   "mimetype": "text/x-python",
   "name": "python",
   "nbconvert_exporter": "python",
   "pygments_lexer": "ipython3",
   "version": "3.6.8"
  }
 },
 "nbformat": 4,
 "nbformat_minor": 4
}
